{
  "nbformat": 4,
  "nbformat_minor": 0,
  "metadata": {
    "colab": {
      "provenance": []
    },
    "kernelspec": {
      "name": "python3",
      "display_name": "Python 3"
    },
    "language_info": {
      "name": "python"
    }
  },
  "cells": [
    {
      "cell_type": "markdown",
      "source": [
        "Q1. Probability of smoker given health insurance:\n",
        "\n",
        "This is a classic example of conditional probability. We know:\n",
        "\n",
        "P(Uses health insurance) = 70%\n",
        "P(Smoker | Uses health insurance) = 40% (probability of being a smoker given using insurance)\n",
        "We want to find P(Uses health insurance | Smoker), which is the probability of using the insurance plan given someone is a smoker. However, Naive Bayes directly calculates the opposite scenario we're given.\n",
        "\n",
        "Here's the approach using the given information:\n",
        "\n",
        "We can rewrite the second term using the concept of total probability:\n",
        "P(Smoker | Uses health insurance) = P(Smoker and Uses health insurance) / P(Uses health insurance)\n",
        "\n",
        "Unfortunately, we lack the value for P(Smoker and Uses health insurance), which is the number of employees who are both smokers and use the insurance plan divided by the total number of employees.\n",
        "\n",
        "Without this information, we cannot calculate the exact probability of being a smoker given health insurance.\n",
        "\n",
        "Q2. Bernoulli vs Multinomial Naive Bayes:\n",
        "\n",
        "Bernoulli Naive Bayes: This is suitable for binary classification problems where each feature can only take two values (e.g., yes/no, true/false). It assumes each feature is generated independently based on the class label (e.g., presence of a disease based on symptoms).\n",
        "\n",
        "Multinomial Naive Bayes: This is used for multi-class classification problems where each feature can have multiple discrete values (e.g., email categories like spam/not spam, weather conditions like sunny/rainy/cloudy). It models the probability of each feature value given the class label.\n",
        "\n",
        "In simpler terms, Bernoulli Naive Bayes deals with yes/no features, while Multinomial Naive Bayes handles features with multiple categories.\n",
        "\n",
        "Q3. Handling missing values in Bernoulli Naive Bayes:\n",
        "\n",
        "Missing values can be problematic for Naive Bayes as they disrupt the calculation of feature probabilities. Here are some common approaches:\n",
        "\n",
        "Ignoring instances with missing values: This is a simple but potentially inefficient method, especially if missing data is frequent.\n",
        "\n",
        "Imputation: Estimate the missing value using statistical techniques like mean/median imputation or more complex methods based on available data.\n",
        "\n",
        "Smoothing: Adjust probabilities slightly to account for missing values, ensuring they sum to 1.\n",
        "\n",
        "Q4. Gaussian Naive Bayes for multi-class classification:\n",
        "\n",
        "Standard Naive Bayes assumes features are independent and discrete. Gaussian Naive Bayes is a specific type that assumes features follow a Gaussian distribution (normal distribution like bell curve). However, it's primarily used for binary classification problems.\n",
        "\n",
        "For multi-class classification with continuous features, other methods like Support Vector Machines (SVM) or Multi-Layer Perceptrons (MLP) are generally preferred."
      ],
      "metadata": {
        "id": "G_p4bJOrG7nN"
      }
    },
    {
      "cell_type": "code",
      "execution_count": 8,
      "metadata": {
        "id": "SIT5BIUHGqJU"
      },
      "outputs": [],
      "source": [
        "import numpy as np\n",
        "import pandas as pd\n",
        "from sklearn.model_selection import cross_validate\n",
        "from sklearn.naive_bayes import BernoulliNB, MultinomialNB, GaussianNB\n",
        "from sklearn.metrics import accuracy_score, precision_score, recall_score, f1_score"
      ]
    },
    {
      "cell_type": "code",
      "source": [
        "url = \"https://archive.ics.uci.edu/ml/machine-learning-databases/spambase/spambase.data\"\n",
        "names = ['word_freq_make', 'word_freq_address', 'word_freq_all', 'word_freq_3d', 'word_freq_our',\n",
        "         'word_freq_over', 'word_freq_remove', 'word_freq_internet', 'word_freq_order', 'word_freq_mail',\n",
        "         'word_freq_receive', 'word_freq_will', 'word_freq_people', 'word_freq_report', 'word_freq_addresses',\n",
        "         'word_freq_free', 'word_freq_business', 'word_freq_email', 'word_freq_you', 'word_freq_credit',\n",
        "         'word_freq_your', 'word_freq_font', 'word_freq_000', 'word_freq_money', 'word_freq_hp',\n",
        "         'word_freq_hpl', 'word_freq_george', 'word_freq_650', 'word_freq_lab', 'word_freq_labs',\n",
        "         'word_freq_telnet', 'word_freq_857', 'word_freq_data', 'word_freq_415', 'word_freq_85',\n",
        "         'word_freq_technology', 'word_freq_1999', 'word_freq_parts', 'word_freq_pm', 'word_freq_direct',\n",
        "         'word_freq_cs', 'word_freq_meeting', 'word_freq_original', 'word_freq_project', 'word_freq_re',\n",
        "         'word_freq_edu', 'word_freq_table', 'word_freq_conference', 'char_freq_;', 'char_freq_(',\n",
        "         'char_freq_[', 'char_freq_!', 'char_freq_$', 'char_freq_#', 'capital_run_length_average',\n",
        "         'capital_run_length_longest', 'capital_run_length_total', 'is_spam']\n",
        "data = pd.read_csv(url, names=names, header=None)"
      ],
      "metadata": {
        "id": "FNBOlqG6HHh3"
      },
      "execution_count": 9,
      "outputs": []
    },
    {
      "cell_type": "code",
      "source": [
        "X = data.drop('is_spam', axis=1)\n",
        "y = data['is_spam']"
      ],
      "metadata": {
        "id": "-jLNyH8KH84k"
      },
      "execution_count": 10,
      "outputs": []
    },
    {
      "cell_type": "code",
      "source": [
        "bernoulli_nb = BernoulliNB()\n",
        "multinomial_nb = MultinomialNB()\n",
        "gaussian_nb = GaussianNB()"
      ],
      "metadata": {
        "id": "L8EkzbG9H_1E"
      },
      "execution_count": 11,
      "outputs": []
    },
    {
      "cell_type": "code",
      "source": [
        "scoring = ['accuracy', 'precision', 'recall', 'f1']"
      ],
      "metadata": {
        "id": "mO_pOQQDIB6j"
      },
      "execution_count": 12,
      "outputs": []
    },
    {
      "cell_type": "code",
      "source": [
        "scores_bernoulli = cross_validate(bernoulli_nb, X, y, cv=10, scoring=scoring)\n",
        "scores_multinomial = cross_validate(multinomial_nb, X, y, cv=10, scoring=scoring)\n",
        "scores_gaussian = cross_validate(gaussian_nb, X, y, cv=10, scoring=scoring)"
      ],
      "metadata": {
        "id": "nv_t99FOIInr"
      },
      "execution_count": 14,
      "outputs": []
    },
    {
      "cell_type": "code",
      "source": [
        "mean_scores_bernoulli = {k: np.mean(v) for k, v in scores_bernoulli.items()}\n",
        "mean_scores_multinomial = {k: np.mean(v) for k, v in scores_multinomial.items()}\n",
        "mean_scores_gaussian = {k: np.mean(v) for k, v in scores_gaussian.items()}"
      ],
      "metadata": {
        "id": "Spia1Oe1ILF9"
      },
      "execution_count": 16,
      "outputs": []
    },
    {
      "cell_type": "code",
      "source": [
        "print(\"Bernoulli Naive Bayes:\")\n",
        "print(\"Accuracy:\", mean_scores_bernoulli['test_accuracy'])\n",
        "print(\"Precision:\", mean_scores_bernoulli['test_precision'])\n",
        "print(\"Recall:\", mean_scores_bernoulli['test_recall'])\n",
        "print(\"F1 score:\", mean_scores_bernoulli['test_f1'])\n",
        "print()\n",
        "\n",
        "print(\"Multinomial Naive Bayes:\")\n",
        "print(\"Accuracy:\", mean_scores_multinomial['test_accuracy'])\n",
        "print(\"Precision:\", mean_scores_multinomial['test_precision'])\n",
        "print(\"Recall:\", mean_scores_multinomial['test_recall'])\n",
        "print(\"F1 score:\", mean_scores_multinomial['test_f1'])\n",
        "print()\n",
        "\n",
        "print(\"Gaussian Naive Bayes:\")\n",
        "print(\"Accuracy:\", mean_scores_gaussian['test_accuracy'])\n",
        "print(\"Precision:\", mean_scores_gaussian['test_precision'])\n",
        "print(\"Recall:\", mean_scores_gaussian['test_recall'])\n",
        "print(\"F1 score:\", mean_scores_gaussian['test_f1'])"
      ],
      "metadata": {
        "colab": {
          "base_uri": "https://localhost:8080/"
        },
        "id": "t8heDDzfI48b",
        "outputId": "a03676ce-7535-4b9b-90ea-fcdbd5974750"
      },
      "execution_count": 17,
      "outputs": [
        {
          "output_type": "stream",
          "name": "stdout",
          "text": [
            "Bernoulli Naive Bayes:\n",
            "Accuracy: 0.8839380364047911\n",
            "Precision: 0.8869617393737383\n",
            "Recall: 0.8152389047416673\n",
            "F1 score: 0.8481249015095276\n",
            "\n",
            "Multinomial Naive Bayes:\n",
            "Accuracy: 0.7863496180326323\n",
            "Precision: 0.7393175533565436\n",
            "Recall: 0.7214983911116508\n",
            "F1 score: 0.7282909724016348\n",
            "\n",
            "Gaussian Naive Bayes:\n",
            "Accuracy: 0.8217730830896915\n",
            "Precision: 0.7103733928118492\n",
            "Recall: 0.9569516119239877\n",
            "F1 score: 0.8130660909542995\n"
          ]
        }
      ]
    }
  ]
}